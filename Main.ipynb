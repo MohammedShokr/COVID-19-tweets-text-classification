{
  "cells": [
    {
      "cell_type": "markdown",
      "metadata": {
        "id": "Dg2IZREmDueH"
      },
      "source": [
        "# Data Reading and exploration"
      ]
    },
    {
      "cell_type": "code",
      "execution_count": 1,
      "metadata": {
        "colab": {
          "base_uri": "https://localhost:8080/"
        },
        "id": "S4ATDjEUziWf",
        "outputId": "9e4ed143-7141-4d77-ada2-fe8b24ad7fe8"
      },
      "outputs": [
        {
          "name": "stdout",
          "output_type": "stream",
          "text": [
            "[nltk_data] Downloading package stopwords to /root/nltk_data...\n",
            "[nltk_data]   Unzipping corpora/stopwords.zip.\n"
          ]
        }
      ],
      "source": [
        "#Preprocessing\n",
        "from sklearn.feature_extraction.text import CountVectorizer\n",
        "from sklearn.model_selection import train_test_split, cross_val_score, KFold\n",
        "import nltk\n",
        "from nltk.tokenize import word_tokenize,sent_tokenize\n",
        "from nltk.corpus import stopwords\n",
        "nltk.download('stopwords')\n",
        "stop_words = set(stopwords.words('english')) \n",
        "import re\n",
        "import gensim\n",
        "\n",
        "# Google Drive\n",
        "from google.colab import drive\n",
        "\n",
        "# Math and Visulaization\n",
        "import numpy as np\n",
        "import pandas as pd\n",
        "import pandas_profiling as pp\n",
        "import matplotlib.pyplot as plt\n",
        "import seaborn as sns\n",
        "\n",
        "# Models\n",
        "from sklearn.naive_bayes import MultinomialNB\n",
        "from sklearn.linear_model import LogisticRegression\n",
        "from sklearn.svm import LinearSVC\n",
        "from sklearn.neighbors import KNeighborsClassifier\n",
        "from sklearn.linear_model import SGDClassifier\n",
        "\n",
        "# Metrics\n",
        "from sklearn import metrics\n",
        "from sklearn.metrics import confusion_matrix, classification_report\n",
        "\n",
        "# DL\n",
        "import tensorflow as tf\n",
        "from tensorflow.keras.preprocessing.text import Tokenizer\n",
        "from tensorflow.keras.preprocessing.sequence import pad_sequences\n",
        "from keras.models import Sequential\n",
        "from keras import layers"
      ]
    },
    {
      "cell_type": "code",
      "execution_count": 2,
      "metadata": {
        "id": "6eKMGJTGFCpr"
      },
      "outputs": [],
      "source": [
        "#!pip install pandas-profiling==2.7.1"
      ]
    },
    {
      "cell_type": "code",
      "execution_count": 3,
      "metadata": {
        "colab": {
          "base_uri": "https://localhost:8080/"
        },
        "id": "Qk45lMZD2by7",
        "outputId": "645a046b-000c-4854-c9b0-0d6ed4cdd717"
      },
      "outputs": [
        {
          "name": "stdout",
          "output_type": "stream",
          "text": [
            "Mounted at /content/drive\n"
          ]
        }
      ],
      "source": [
        "drive.mount('/content/drive')"
      ]
    },
    {
      "cell_type": "code",
      "execution_count": 4,
      "metadata": {
        "id": "xiseJU-t2qsj"
      },
      "outputs": [],
      "source": [
        "train = pd.read_csv(\"/content/drive/MyDrive/NLP/Project/Dataset/Corona_NLP_train.csv\",encoding='latin1')\n",
        "test = pd.read_csv(\"/content/drive/MyDrive/NLP/Project/Dataset/Corona_NLP_test.csv\",encoding='latin1')"
      ]
    },
    {
      "cell_type": "code",
      "execution_count": 5,
      "metadata": {
        "colab": {
          "base_uri": "https://localhost:8080/",
          "height": 202
        },
        "id": "FjjrxYPn27Cn",
        "outputId": "e81d70d6-4883-47bc-8dd4-6ac26b8f1f0e"
      },
      "outputs": [
        {
          "data": {
            "text/html": [
              "<div>\n",
              "<style scoped>\n",
              "    .dataframe tbody tr th:only-of-type {\n",
              "        vertical-align: middle;\n",
              "    }\n",
              "\n",
              "    .dataframe tbody tr th {\n",
              "        vertical-align: top;\n",
              "    }\n",
              "\n",
              "    .dataframe thead th {\n",
              "        text-align: right;\n",
              "    }\n",
              "</style>\n",
              "<table border=\"1\" class=\"dataframe\">\n",
              "  <thead>\n",
              "    <tr style=\"text-align: right;\">\n",
              "      <th></th>\n",
              "      <th>UserName</th>\n",
              "      <th>ScreenName</th>\n",
              "      <th>Location</th>\n",
              "      <th>TweetAt</th>\n",
              "      <th>OriginalTweet</th>\n",
              "      <th>Sentiment</th>\n",
              "    </tr>\n",
              "  </thead>\n",
              "  <tbody>\n",
              "    <tr>\n",
              "      <th>0</th>\n",
              "      <td>3799</td>\n",
              "      <td>48751</td>\n",
              "      <td>London</td>\n",
              "      <td>16-03-2020</td>\n",
              "      <td>@MeNyrbie @Phil_Gahan @Chrisitv https://t.co/i...</td>\n",
              "      <td>Neutral</td>\n",
              "    </tr>\n",
              "    <tr>\n",
              "      <th>1</th>\n",
              "      <td>3800</td>\n",
              "      <td>48752</td>\n",
              "      <td>UK</td>\n",
              "      <td>16-03-2020</td>\n",
              "      <td>advice Talk to your neighbours family to excha...</td>\n",
              "      <td>Positive</td>\n",
              "    </tr>\n",
              "    <tr>\n",
              "      <th>2</th>\n",
              "      <td>3801</td>\n",
              "      <td>48753</td>\n",
              "      <td>Vagabonds</td>\n",
              "      <td>16-03-2020</td>\n",
              "      <td>Coronavirus Australia: Woolworths to give elde...</td>\n",
              "      <td>Positive</td>\n",
              "    </tr>\n",
              "    <tr>\n",
              "      <th>3</th>\n",
              "      <td>3802</td>\n",
              "      <td>48754</td>\n",
              "      <td>NaN</td>\n",
              "      <td>16-03-2020</td>\n",
              "      <td>My food stock is not the only one which is emp...</td>\n",
              "      <td>Positive</td>\n",
              "    </tr>\n",
              "    <tr>\n",
              "      <th>4</th>\n",
              "      <td>3803</td>\n",
              "      <td>48755</td>\n",
              "      <td>NaN</td>\n",
              "      <td>16-03-2020</td>\n",
              "      <td>Me, ready to go at supermarket during the #COV...</td>\n",
              "      <td>Extremely Negative</td>\n",
              "    </tr>\n",
              "  </tbody>\n",
              "</table>\n",
              "</div>"
            ],
            "text/plain": [
              "   UserName  ...           Sentiment\n",
              "0      3799  ...             Neutral\n",
              "1      3800  ...            Positive\n",
              "2      3801  ...            Positive\n",
              "3      3802  ...            Positive\n",
              "4      3803  ...  Extremely Negative\n",
              "\n",
              "[5 rows x 6 columns]"
            ]
          },
          "execution_count": 5,
          "metadata": {
            "tags": []
          },
          "output_type": "execute_result"
        }
      ],
      "source": [
        "train.head()"
      ]
    },
    {
      "cell_type": "code",
      "execution_count": 6,
      "metadata": {
        "id": "aeP3wK93FBUb"
      },
      "outputs": [],
      "source": [
        "#pp.ProfileReport(train)"
      ]
    },
    {
      "cell_type": "code",
      "execution_count": 7,
      "metadata": {
        "colab": {
          "base_uri": "https://localhost:8080/"
        },
        "id": "BIp5B2u_F1Fn",
        "outputId": "5b4518fc-e9cf-4bdf-ea13-e0f20543a024"
      },
      "outputs": [
        {
          "name": "stdout",
          "output_type": "stream",
          "text": [
            "Total number of tweets:  41157\n",
            "Total number of Sentiments:  41157\n"
          ]
        }
      ],
      "source": [
        "print(\"Total number of tweets: \",len(train['OriginalTweet']))\n",
        "print(\"Total number of Sentiments: \",len(train['Sentiment']))\n",
        "# No missing values on these two features"
      ]
    },
    {
      "cell_type": "code",
      "execution_count": 8,
      "metadata": {
        "id": "eUybfzCC-Lib"
      },
      "outputs": [],
      "source": [
        "# Remove duplicate rows\n",
        "train.drop_duplicates(inplace= True)\n",
        "test.drop_duplicates(inplace=True)"
      ]
    },
    {
      "cell_type": "code",
      "execution_count": 9,
      "metadata": {
        "id": "-3wmvwzK-NNu"
      },
      "outputs": [],
      "source": [
        "# Drop rows with missing values (No need to do so as no missing tweets nor labels)\n",
        "#train.dropna(inplace=True)\n",
        "#test.dropna(inplace=True)"
      ]
    },
    {
      "cell_type": "code",
      "execution_count": 10,
      "metadata": {
        "id": "Jpnr5J456eLB"
      },
      "outputs": [],
      "source": [
        "train['tweet'] = train['OriginalTweet']\n",
        "train['tweet'] = train['tweet'].astype(str)\n",
        "\n",
        "test['tweet'] = test.OriginalTweet\n",
        "test['tweet'] = test['tweet'].astype(str)"
      ]
    },
    {
      "cell_type": "markdown",
      "metadata": {
        "id": "muKam8EtD7Mv"
      },
      "source": [
        "# Data Preprocessing"
      ]
    },
    {
      "cell_type": "code",
      "execution_count": 11,
      "metadata": {
        "id": "MBa6sUkc_qpB"
      },
      "outputs": [],
      "source": [
        "# Mapping the 5 classes to 3\n",
        "def change_classes(sentiment):\n",
        "    if sentiment == \"Extremely Positive\":\n",
        "        return 'Positive'\n",
        "    elif sentiment == \"Positive\":\n",
        "        return 'Positive'\n",
        "    elif sentiment == \"Extremely Negative\":\n",
        "        return 'Negative'\n",
        "    elif sentiment == \"Negative\":\n",
        "        return 'Negative'\n",
        "    else:\n",
        "        return 'Neutral'"
      ]
    },
    {
      "cell_type": "code",
      "execution_count": 12,
      "metadata": {
        "id": "ILoO8Z1Y_qlD"
      },
      "outputs": [],
      "source": [
        "train['Sentiment']=train['Sentiment'].apply(lambda x:change_classes(x))\n",
        "test['Sentiment']=test['Sentiment'].apply(lambda x:change_classes(x))"
      ]
    },
    {
      "cell_type": "code",
      "execution_count": 13,
      "metadata": {
        "id": "HHvpkn8H6ePl"
      },
      "outputs": [],
      "source": [
        "# Data Preprocessing\n",
        "def correct_apostrophe(text):\n",
        "    return re.sub(r'Â\\x92','\\'', text)\n",
        "train['tweet']=train['tweet'].apply(lambda x:correct_apostrophe(x))\n",
        "test['tweet']=test['tweet'].apply(lambda x:correct_apostrophe(x))\n",
        "\n",
        "def remove_URLs(text):\n",
        "    url_removal_regex = re.compile(r'https?://\\S+|www\\.\\S+')\n",
        "    return url_removal_regex.sub(r'', text)\n",
        "train['tweet']=train['tweet'].apply(lambda x:remove_URLs(x))\n",
        "test['tweet']=test['tweet'].apply(lambda x:remove_URLs(x))\n",
        "\n",
        "def remove_HTML(text):\n",
        "    html_regex=re.compile(r'<.*?>')\n",
        "    return html_regex.sub(r'',text)\n",
        "train['tweet']=train['tweet'].apply(lambda x:remove_HTML(x))\n",
        "test['tweet']=test['tweet'].apply(lambda x:remove_HTML(x))\n",
        "\n",
        "def lower(text):\n",
        "    return text.lower()\n",
        "train['tweet']=train['tweet'].apply(lambda x:lower(x))\n",
        "test['tweet']=test['tweet'].apply(lambda x:lower(x))\n",
        "\n",
        "def remove_numbers(text):\n",
        "    return re.sub(r'\\d+', '', text)\n",
        "train['tweet']=train['tweet'].apply(lambda x:remove_numbers(x))\n",
        "test['tweet']=test['tweet'].apply(lambda x:remove_numbers(x))\n",
        "\n",
        "def remove_mentions(text):\n",
        "    return re.sub(r'@\\w+','',text)\n",
        "train['tweet']=train['tweet'].apply(lambda x:remove_mentions(x))\n",
        "test['tweet']=test['tweet'].apply(lambda x:remove_mentions(x))\n",
        "\n",
        "def remove_hashtags(x):\n",
        "    return re.sub(r'#\\w+','',x)\n",
        "train['tweet']=train['tweet'].apply(lambda x:remove_hashtags(x))\n",
        "test['tweet']=test['tweet'].apply(lambda x:remove_hashtags(x))\n",
        "\n",
        "def remove_stopwords(text):\n",
        "    return \" \".join([word for word in str(text).split() if word not in stop_words])\n",
        "train['tweet']=train['tweet'].apply(lambda x:remove_stopwords(x))\n",
        "test['tweet']=test['tweet'].apply(lambda x:remove_stopwords(x))\n",
        "\n",
        "def remove_punctuation(text):\n",
        "    return re.sub(r'[^\\w\\d\\s]', '', text)\n",
        "train['tweet']=train['tweet'].apply(lambda x:remove_punctuation(x))\n",
        "test['tweet']=test['tweet'].apply(lambda x:remove_punctuation(x))\n"
      ]
    },
    {
      "cell_type": "code",
      "execution_count": 14,
      "metadata": {
        "id": "Pzijyrdj6eSq"
      },
      "outputs": [],
      "source": [
        "def remove_spaces(text):\n",
        "    return re.sub(r\"\\s+\",\" \",text).strip()\n",
        "train['tweet']=train['tweet'].apply(lambda x:remove_spaces(x))\n",
        "test['tweet']=test['tweet'].apply(lambda x:remove_spaces(x))"
      ]
    },
    {
      "cell_type": "code",
      "execution_count": 15,
      "metadata": {
        "id": "RHxFKKC66e0Q"
      },
      "outputs": [],
      "source": [
        "# Take only the important columns [tweet|Sentiment]\n",
        "train_data = train.iloc[:,5:]\n",
        "test_data = test.iloc[:,5:]"
      ]
    },
    {
      "cell_type": "code",
      "execution_count": 16,
      "metadata": {
        "colab": {
          "base_uri": "https://localhost:8080/",
          "height": 367
        },
        "id": "h6FnBsuItTgy",
        "outputId": "6ef93e77-a540-462d-fd9b-5b96aeff8c8c"
      },
      "outputs": [
        {
          "name": "stderr",
          "output_type": "stream",
          "text": [
            "/usr/local/lib/python3.7/dist-packages/seaborn/_decorators.py:43: FutureWarning: Pass the following variable as a keyword arg: x. From version 0.12, the only valid positional argument will be `data`, and passing other arguments without an explicit keyword will result in an error or misinterpretation.\n",
            "  FutureWarning\n"
          ]
        },
        {
          "data": {
            "text/plain": [
              "Text(0.5, 1.0, 'Train data class distribution')"
            ]
          },
          "execution_count": 16,
          "metadata": {
            "tags": []
          },
          "output_type": "execute_result"
        },
        {
          "data": {
            "image/png": "[encoded data removed]",
            "text/plain": [
              "<Figure size 432x288 with 1 Axes>"
            ]
          },
          "metadata": {
            "needs_background": "light",
            "tags": []
          },
          "output_type": "display_data"
        }
      ],
      "source": [
        "sns.countplot('Sentiment', data=train_data)\n",
        "plt.title(\"Train data class distribution\")"
      ]
    },
    {
      "cell_type": "code",
      "execution_count": 17,
      "metadata": {
        "colab": {
          "base_uri": "https://localhost:8080/",
          "height": 367
        },
        "id": "EySEqn2ouNL2",
        "outputId": "e44481fa-89e6-4f2d-8760-c852ef6fa62f"
      },
      "outputs": [
        {
          "name": "stderr",
          "output_type": "stream",
          "text": [
            "/usr/local/lib/python3.7/dist-packages/seaborn/_decorators.py:43: FutureWarning: Pass the following variable as a keyword arg: x. From version 0.12, the only valid positional argument will be `data`, and passing other arguments without an explicit keyword will result in an error or misinterpretation.\n",
            "  FutureWarning\n"
          ]
        },
        {
          "data": {
            "text/plain": [
              "Text(0.5, 1.0, 'Test data class distribution')"
            ]
          },
          "execution_count": 17,
          "metadata": {
            "tags": []
          },
          "output_type": "execute_result"
        },
        {
          "data": {
            "image/png": "[encoded data removed]",
            "text/plain": [
              "<Figure size 432x288 with 1 Axes>"
            ]
          },
          "metadata": {
            "needs_background": "light",
            "tags": []
          },
          "output_type": "display_data"
        }
      ],
      "source": [
        "sns.countplot('Sentiment', data=test_data)\n",
        "plt.title(\"Test data class distribution\")"
      ]
    },
    {
      "cell_type": "markdown",
      "metadata": {
        "id": "RP9XJXslVvTl"
      },
      "source": [
        "## TEXT VECTORIZATION"
      ]
    },
    {
      "cell_type": "code",
      "execution_count": 18,
      "metadata": {
        "id": "Lm6YBviwoxiw"
      },
      "outputs": [],
      "source": [
        "# Mapping class names to numbers\n",
        "train_data['Sentiment'] = train_data.Sentiment.map({'Negative':0, 'Neutral':1, 'Positive':2})\n",
        "test_data['Sentiment'] = test_data.Sentiment.map({'Negative':0, 'Neutral':1, 'Positive':2})"
      ]
    },
    {
      "cell_type": "code",
      "execution_count": 19,
      "metadata": {
        "id": "fGzp5dz4pt5L"
      },
      "outputs": [],
      "source": [
        "# Split data into features and label\n",
        "X_train = train_data.tweet\n",
        "X_test = test_data.tweet\n",
        "y_train = train_data.Sentiment\n",
        "y_test = test_data.Sentiment"
      ]
    },
    {
      "cell_type": "code",
      "execution_count": 20,
      "metadata": {
        "id": "b15y_0j5JDVv"
      },
      "outputs": [],
      "source": [
        "# Start Count vectorizer with maximum features 5000\n",
        "vect = CountVectorizer(max_features= 5000)\n",
        "# Extracting Features from train data\n",
        "X_train_vec = vect.fit_transform(X_train)\n",
        "# Vectorizing test data with the extracted features\n",
        "X_test_vec = vect.transform(X_test)\n"
      ]
    },
    {
      "cell_type": "markdown",
      "metadata": {
        "id": "ATaHl3QCZrNz"
      },
      "source": [
        "# Models Training"
      ]
    },
    {
      "cell_type": "markdown",
      "metadata": {
        "id": "yS9vb5ePZ6my"
      },
      "source": [
        "## Naive Bayes"
      ]
    },
    {
      "cell_type": "code",
      "execution_count": 21,
      "metadata": {
        "id": "8Prcldydm3zu"
      },
      "outputs": [],
      "source": [
        "nb = MultinomialNB()\n",
        "nb.fit(X_train_vec, y_train)\n",
        "y_pred_class = nb.predict(X_test_vec)"
      ]
    },
    {
      "cell_type": "code",
      "execution_count": 22,
      "metadata": {
        "colab": {
          "base_uri": "https://localhost:8080/",
          "height": 404
        },
        "id": "zslYxcG6rd9G",
        "outputId": "1992d67c-ec69-4716-ac15-0cee4d81644e"
      },
      "outputs": [
        {
          "data": {
            "image/png": "[encoded data removed]",
            "text/plain": [
              "<Figure size 720x432 with 2 Axes>"
            ]
          },
          "metadata": {
            "needs_background": "light",
            "tags": []
          },
          "output_type": "display_data"
        }
      ],
      "source": [
        "# Confusion mtrix plotting\n",
        "cf_matrix = metrics.confusion_matrix(y_test, y_pred_class, normalize = 'true')\n",
        "plt.figure(figsize = (10,6))\n",
        "sns.heatmap(cf_matrix, annot=True, xticklabels = sorted(set(y_test)), yticklabels = sorted(set(y_test)))\n",
        "plt.title('Confusion Matrix')\n",
        "plt.xlabel(\"Predicted\")\n",
        "plt.ylabel(\"True label\")\n",
        "plt.show()"
      ]
    },
    {
      "cell_type": "code",
      "execution_count": 23,
      "metadata": {
        "colab": {
          "base_uri": "https://localhost:8080/"
        },
        "id": "iZhBjRD2K5lW",
        "outputId": "4e55cc9d-dd27-4274-bcfa-5b9dcc594693"
      },
      "outputs": [
        {
          "name": "stdout",
          "output_type": "stream",
          "text": [
            "              precision    recall  f1-score   support\n",
            "\n",
            "           0       0.72      0.75      0.73      1633\n",
            "           1       0.52      0.42      0.47       619\n",
            "           2       0.72      0.74      0.73      1546\n",
            "\n",
            "    accuracy                           0.69      3798\n",
            "   macro avg       0.65      0.64      0.64      3798\n",
            "weighted avg       0.69      0.69      0.69      3798\n",
            "\n"
          ]
        }
      ],
      "source": [
        "print(classification_report(y_test,y_pred_class))"
      ]
    },
    {
      "cell_type": "markdown",
      "metadata": {
        "id": "HyoNzkBevylj"
      },
      "source": [
        "## Linear SVC"
      ]
    },
    {
      "cell_type": "code",
      "execution_count": 24,
      "metadata": {
        "colab": {
          "base_uri": "https://localhost:8080/"
        },
        "id": "YcDDk1inv1jv",
        "outputId": "e9a6c0bc-f4ba-4a44-eee2-538751de5773"
      },
      "outputs": [
        {
          "name": "stderr",
          "output_type": "stream",
          "text": [
            "/usr/local/lib/python3.7/dist-packages/sklearn/svm/_base.py:947: ConvergenceWarning: Liblinear failed to converge, increase the number of iterations.\n",
            "  \"the number of iterations.\", ConvergenceWarning)\n"
          ]
        }
      ],
      "source": [
        "classifier = LinearSVC(max_iter=1500)\n",
        "classifier.fit(X_train_vec, y_train)\n",
        "\n",
        "#Predict test data\n",
        "y_pred_class = classifier.predict(X_test_vec)"
      ]
    },
    {
      "cell_type": "code",
      "execution_count": 25,
      "metadata": {
        "colab": {
          "base_uri": "https://localhost:8080/",
          "height": 404
        },
        "id": "X4ncVIt1wHJ3",
        "outputId": "c859c7ee-f6b6-48a9-8f9d-0e50a376277c"
      },
      "outputs": [
        {
          "data": {
            "image/png": "[encoded data removed]",
            "text/plain": [
              "<Figure size 720x432 with 2 Axes>"
            ]
          },
          "metadata": {
            "needs_background": "light",
            "tags": []
          },
          "output_type": "display_data"
        }
      ],
      "source": [
        "cf_matrix = confusion_matrix(y_test, y_pred_class, normalize = 'true')\n",
        "plt.figure(figsize = (10,6))\n",
        "sns.heatmap(cf_matrix, annot=True, xticklabels = sorted(set(y_test)), yticklabels = sorted(set(y_test)))\n",
        "plt.title('Confusion Matrix')\n",
        "plt.xlabel(\"Predicted\")\n",
        "plt.ylabel(\"True label\")\n",
        "plt.show()"
      ]
    },
    {
      "cell_type": "code",
      "execution_count": 26,
      "metadata": {
        "colab": {
          "base_uri": "https://localhost:8080/"
        },
        "id": "GYXYsU2eK2xf",
        "outputId": "76754cfe-c2a1-43e3-bf52-9ba4350a538c"
      },
      "outputs": [
        {
          "name": "stdout",
          "output_type": "stream",
          "text": [
            "              precision    recall  f1-score   support\n",
            "\n",
            "           0       0.84      0.78      0.81      1633\n",
            "           1       0.68      0.72      0.70       619\n",
            "           2       0.82      0.85      0.83      1546\n",
            "\n",
            "    accuracy                           0.80      3798\n",
            "   macro avg       0.78      0.79      0.78      3798\n",
            "weighted avg       0.80      0.80      0.80      3798\n",
            "\n"
          ]
        }
      ],
      "source": [
        "print(classification_report(y_test,y_pred_class))"
      ]
    },
    {
      "cell_type": "markdown",
      "metadata": {
        "id": "rBPMCulNlQoc"
      },
      "source": [
        "## K Nearest Neighbour (KNN)\n",
        "\n",
        "\n"
      ]
    },
    {
      "cell_type": "code",
      "execution_count": 27,
      "metadata": {
        "id": "DO-yQQBwmkae"
      },
      "outputs": [],
      "source": [
        "knn_classifier = KNeighborsClassifier(n_neighbors=7)\n",
        "knn_classifier.fit(X_train_vec,y_train)\n",
        "#Prediction\n",
        "y_pred_class=knn_classifier.predict(X_test_vec)"
      ]
    },
    {
      "cell_type": "code",
      "execution_count": 28,
      "metadata": {
        "colab": {
          "base_uri": "https://localhost:8080/",
          "height": 404
        },
        "id": "Dc920JGTntwU",
        "outputId": "08ad3a5a-891e-488c-d3d0-7840fb657b29"
      },
      "outputs": [
        {
          "data": {
            "image/png": "[encoded data removed]",
            "text/plain": [
              "<Figure size 720x432 with 2 Axes>"
            ]
          },
          "metadata": {
            "needs_background": "light",
            "tags": []
          },
          "output_type": "display_data"
        }
      ],
      "source": [
        "cf_matrix = confusion_matrix(y_test, y_pred_class, normalize = 'true')\n",
        "plt.figure(figsize = (10,6))\n",
        "sns.heatmap(cf_matrix, annot=True, xticklabels = sorted(set(y_test)), yticklabels = sorted(set(y_test)))\n",
        "plt.title('Confusion Matrix')\n",
        "plt.xlabel(\"Predicted\")\n",
        "plt.ylabel(\"True label\")\n",
        "plt.show()"
      ]
    },
    {
      "cell_type": "code",
      "execution_count": 39,
      "metadata": {
        "colab": {
          "base_uri": "https://localhost:8080/"
        },
        "id": "an8oDF7KK0kB",
        "outputId": "2ab5170c-7741-4d3d-b613-a879d048279f"
      },
      "outputs": [
        {
          "name": "stdout",
          "output_type": "stream",
          "text": [
            "              precision    recall  f1-score   support\n",
            "\n",
            "           0       0.85      0.79      0.82      1633\n",
            "           1       0.67      0.82      0.74       619\n",
            "           2       0.84      0.83      0.83      1546\n",
            "\n",
            "    accuracy                           0.81      3798\n",
            "   macro avg       0.79      0.81      0.80      3798\n",
            "weighted avg       0.82      0.81      0.81      3798\n",
            "\n"
          ]
        }
      ],
      "source": [
        "print(classification_report(y_test,y_pred_class))"
      ]
    },
    {
      "cell_type": "markdown",
      "metadata": {
        "id": "49n6_M0Xokoc"
      },
      "source": [
        "## Logistic Regression\n"
      ]
    },
    {
      "cell_type": "code",
      "execution_count": 30,
      "metadata": {
        "id": "hgGCrf4UojbC"
      },
      "outputs": [],
      "source": [
        "LR_classifier = LogisticRegression(max_iter=1000)\n",
        "LR_classifier.fit(X_train_vec,y_train)\n",
        "#Prediction\n",
        "y_pred_class=LR_classifier.predict(X_test_vec)"
      ]
    },
    {
      "cell_type": "code",
      "execution_count": 31,
      "metadata": {
        "colab": {
          "base_uri": "https://localhost:8080/",
          "height": 404
        },
        "id": "_2QZ08PO1dat",
        "outputId": "cfca6514-3503-4865-faf2-271a39e76880"
      },
      "outputs": [
        {
          "data": {
            "image/png": "[encoded data removed]",
            "text/plain": [
              "<Figure size 720x432 with 2 Axes>"
            ]
          },
          "metadata": {
            "needs_background": "light",
            "tags": []
          },
          "output_type": "display_data"
        }
      ],
      "source": [
        "cf_matrix = confusion_matrix(y_test, y_pred_class, normalize = 'true')\n",
        "plt.figure(figsize = (10,6))\n",
        "sns.heatmap(cf_matrix, annot=True, xticklabels = sorted(set(y_test)), yticklabels = sorted(set(y_test)))\n",
        "plt.title('Confusion Matrix')\n",
        "plt.xlabel(\"Predicted\")\n",
        "plt.ylabel(\"True label\")\n",
        "plt.show()"
      ]
    },
    {
      "cell_type": "code",
      "execution_count": 32,
      "metadata": {
        "colab": {
          "base_uri": "https://localhost:8080/"
        },
        "id": "TKoSASDMKzIT",
        "outputId": "7e1ee44e-5e29-46a9-974f-4ce69c49b6e9"
      },
      "outputs": [
        {
          "name": "stdout",
          "output_type": "stream",
          "text": [
            "              precision    recall  f1-score   support\n",
            "\n",
            "           0       0.84      0.79      0.81      1633\n",
            "           1       0.69      0.75      0.72       619\n",
            "           2       0.82      0.84      0.83      1546\n",
            "\n",
            "    accuracy                           0.80      3798\n",
            "   macro avg       0.78      0.79      0.79      3798\n",
            "weighted avg       0.81      0.80      0.80      3798\n",
            "\n"
          ]
        }
      ],
      "source": [
        "print(classification_report(y_test,y_pred_class))"
      ]
    },
    {
      "cell_type": "markdown",
      "metadata": {
        "id": "jHhmIwra4v34"
      },
      "source": [
        "## SGD\n"
      ]
    },
    {
      "cell_type": "code",
      "execution_count": 33,
      "metadata": {
        "id": "MISeUKIS4yR-"
      },
      "outputs": [],
      "source": [
        "sgd_classifier = SGDClassifier(class_weight='balanced', penalty='l2')\n",
        "sgd_classifier.fit(X_train_vec,y_train)\n",
        "#Prediction\n",
        "y_pred_class=sgd_classifier.predict(X_test_vec)"
      ]
    },
    {
      "cell_type": "code",
      "execution_count": 34,
      "metadata": {
        "colab": {
          "base_uri": "https://localhost:8080/",
          "height": 404
        },
        "id": "bCiT0jNQ5UZG",
        "outputId": "597e0841-26d0-4184-ab44-913da9b8e0f8"
      },
      "outputs": [
        {
          "data": {
            "image/png": "[encoded data removed]",
            "text/plain": [
              "<Figure size 720x432 with 2 Axes>"
            ]
          },
          "metadata": {
            "needs_background": "light",
            "tags": []
          },
          "output_type": "display_data"
        }
      ],
      "source": [
        "cf_matrix = confusion_matrix(y_test, y_pred_class, normalize = 'true')\n",
        "plt.figure(figsize = (10,6))\n",
        "sns.heatmap(cf_matrix, annot=True, xticklabels = sorted(set(y_test)), yticklabels = sorted(set(y_test)))\n",
        "plt.title('Confusion Matrix')\n",
        "plt.xlabel(\"Predicted\")\n",
        "plt.ylabel(\"True label\")\n",
        "plt.show()"
      ]
    },
    {
      "cell_type": "code",
      "execution_count": 35,
      "metadata": {
        "colab": {
          "base_uri": "https://localhost:8080/"
        },
        "id": "mP9JhDNwKtyf",
        "outputId": "a778eb63-d3e6-488f-904f-d22a0d0309d8"
      },
      "outputs": [
        {
          "name": "stdout",
          "output_type": "stream",
          "text": [
            "              precision    recall  f1-score   support\n",
            "\n",
            "           0       0.85      0.79      0.82      1633\n",
            "           1       0.67      0.82      0.74       619\n",
            "           2       0.84      0.83      0.83      1546\n",
            "\n",
            "    accuracy                           0.81      3798\n",
            "   macro avg       0.79      0.81      0.80      3798\n",
            "weighted avg       0.82      0.81      0.81      3798\n",
            "\n"
          ]
        }
      ],
      "source": [
        "print(classification_report(y_test,y_pred_class))"
      ]
    },
    {
      "cell_type": "markdown",
      "metadata": {
        "id": "jdB_1JXtqJZH"
      },
      "source": [
        "## Deep Learning"
      ]
    },
    {
      "cell_type": "code",
      "execution_count": 36,
      "metadata": {
        "colab": {
          "base_uri": "https://localhost:8080/"
        },
        "id": "iBCSsv3ZGw0W",
        "outputId": "263d1491-6444-420e-9680-790312db0261"
      },
      "outputs": [
        {
          "data": {
            "text/plain": [
              "266"
            ]
          },
          "execution_count": 36,
          "metadata": {
            "tags": []
          },
          "output_type": "execute_result"
        }
      ],
      "source": [
        "max_len = np.max(X_train.apply(lambda x :len(x)))\n",
        "max_len"
      ]
    },
    {
      "cell_type": "code",
      "execution_count": 37,
      "metadata": {
        "id": "dXrl3FKAGMZB"
      },
      "outputs": [],
      "source": [
        "# Tokenization\n",
        "tokenizer = Tokenizer()\n",
        "tokenizer.fit_on_texts(X_train)\n",
        "# Finding Vocab length\n",
        "vocab_length = len(tokenizer.word_index) + 1\n",
        "\n",
        "# Tokenizing train and test data\n",
        "x_train = tokenizer.texts_to_sequences(X_train)\n",
        "x_test = tokenizer.texts_to_sequences(X_test)\n",
        "\n",
        "x_train = pad_sequences(x_train, maxlen=max_len, padding='post')\n",
        "x_test = pad_sequences(x_test, maxlen=max_len, padding='post')"
      ]
    },
    {
      "cell_type": "code",
      "execution_count": 40,
      "metadata": {
        "colab": {
          "base_uri": "https://localhost:8080/"
        },
        "id": "XN8r9TxGHbUT",
        "outputId": "16c44f45-4fbf-48f3-bc36-7208cebcd637"
      },
      "outputs": [
        {
          "name": "stdout",
          "output_type": "stream",
          "text": [
            "Model: \"sequential_1\"\n",
            "_________________________________________________________________\n",
            "Layer (type)                 Output Shape              Param #   \n",
            "=================================================================\n",
            "embedding_1 (Embedding)      (None, 266, 16)           615264    \n",
            "_________________________________________________________________\n",
            "global_max_pooling1d_1 (Glob (None, 16)                0         \n",
            "_________________________________________________________________\n",
            "dense_2 (Dense)              (None, 10)                170       \n",
            "_________________________________________________________________\n",
            "dropout_1 (Dropout)          (None, 10)                0         \n",
            "_________________________________________________________________\n",
            "dense_3 (Dense)              (None, 3)                 33        \n",
            "=================================================================\n",
            "Total params: 615,467\n",
            "Trainable params: 615,467\n",
            "Non-trainable params: 0\n",
            "_________________________________________________________________\n"
          ]
        }
      ],
      "source": [
        "embedding_dim = 16\n",
        "# Defining sequantial model with 5 layers\n",
        "dl_model = Sequential()\n",
        "dl_model.add(layers.Embedding(input_dim=vocab_length, \n",
        "                           output_dim=embedding_dim, \n",
        "                           input_length=max_len))\n",
        "\n",
        "dl_model.add(layers.GlobalMaxPool1D())\n",
        "dl_model.add(layers.Dense(10, activation='relu'))\n",
        "dl_model.add(layers.Dropout(0.5))\n",
        "dl_model.add(layers.Dense(3, activation='softmax'))\n",
        "dl_model.compile(optimizer='adam',\n",
        "              loss='categorical_crossentropy',\n",
        "              metrics=['accuracy'])\n",
        "dl_model.summary()"
      ]
    },
    {
      "cell_type": "code",
      "execution_count": 41,
      "metadata": {
        "id": "jgS4cyLhNKb9"
      },
      "outputs": [],
      "source": [
        "# Label encoding to be 3*1\n",
        "y_train = tf.keras.utils.to_categorical(y_train, 3)\n",
        "y_test = tf.keras.utils.to_categorical(y_test, 3)"
      ]
    },
    {
      "cell_type": "code",
      "execution_count": 42,
      "metadata": {
        "colab": {
          "base_uri": "https://localhost:8080/"
        },
        "id": "aHflEDYeHbeJ",
        "outputId": "53316980-0d28-4bd9-dd13-122d736cc255"
      },
      "outputs": [
        {
          "name": "stdout",
          "output_type": "stream",
          "text": [
            "Epoch 1/10\n",
            "1287/1287 [==============================] - 25s 9ms/step - loss: 0.9920 - accuracy: 0.4885 - val_loss: 0.6634 - val_accuracy: 0.7543\n",
            "Epoch 2/10\n",
            "1287/1287 [==============================] - 11s 9ms/step - loss: 0.6529 - accuracy: 0.7357 - val_loss: 0.5373 - val_accuracy: 0.8038\n",
            "Epoch 3/10\n",
            "1287/1287 [==============================] - 11s 9ms/step - loss: 0.5273 - accuracy: 0.7931 - val_loss: 0.4888 - val_accuracy: 0.8202\n",
            "Epoch 4/10\n",
            "1287/1287 [==============================] - 12s 10ms/step - loss: 0.4509 - accuracy: 0.8175 - val_loss: 0.4741 - val_accuracy: 0.8246\n",
            "Epoch 5/10\n",
            "1287/1287 [==============================] - 12s 9ms/step - loss: 0.4184 - accuracy: 0.8320 - val_loss: 0.4729 - val_accuracy: 0.8320\n",
            "Epoch 6/10\n",
            "1287/1287 [==============================] - 11s 8ms/step - loss: 0.3736 - accuracy: 0.8447 - val_loss: 0.4981 - val_accuracy: 0.8302\n",
            "Epoch 7/10\n",
            "1287/1287 [==============================] - 11s 9ms/step - loss: 0.3443 - accuracy: 0.8490 - val_loss: 0.5103 - val_accuracy: 0.8283\n",
            "Epoch 8/10\n",
            "1287/1287 [==============================] - 11s 9ms/step - loss: 0.3166 - accuracy: 0.8581 - val_loss: 0.5573 - val_accuracy: 0.8233\n",
            "Epoch 9/10\n",
            "1287/1287 [==============================] - 11s 9ms/step - loss: 0.2852 - accuracy: 0.8682 - val_loss: 0.5804 - val_accuracy: 0.8275\n",
            "Epoch 10/10\n",
            "1287/1287 [==============================] - 11s 9ms/step - loss: 0.2599 - accuracy: 0.8889 - val_loss: 0.6378 - val_accuracy: 0.8244\n"
          ]
        }
      ],
      "source": [
        "# model training\n",
        "history = dl_model.fit(x_train, y_train,\n",
        "                    epochs=10,\n",
        "                    validation_data=(x_test, y_test))"
      ]
    },
    {
      "cell_type": "code",
      "execution_count": 43,
      "metadata": {
        "colab": {
          "base_uri": "https://localhost:8080/"
        },
        "id": "YoU8j1iTWMUt",
        "outputId": "1af11aa4-2789-4219-bb65-9aba1ba19ded"
      },
      "outputs": [
        {
          "name": "stderr",
          "output_type": "stream",
          "text": [
            "/usr/local/lib/python3.7/dist-packages/keras/engine/sequential.py:450: UserWarning: `model.predict_classes()` is deprecated and will be removed after 2021-01-01. Please use instead:* `np.argmax(model.predict(x), axis=-1)`,   if your model does multi-class classification   (e.g. if it uses a `softmax` last-layer activation).* `(model.predict(x) > 0.5).astype(\"int32\")`,   if your model does binary classification   (e.g. if it uses a `sigmoid` last-layer activation).\n",
            "  warnings.warn('`model.predict_classes()` is deprecated and '\n"
          ]
        }
      ],
      "source": [
        "pred = dl_model.predict_classes(x_test)"
      ]
    },
    {
      "cell_type": "code",
      "execution_count": 44,
      "metadata": {
        "colab": {
          "base_uri": "https://localhost:8080/",
          "height": 404
        },
        "id": "cCIPTJFYXPFm",
        "outputId": "2a5d8086-2679-4f5b-9dd9-52b92045e378"
      },
      "outputs": [
        {
          "data": {
            "image/png": "[encoded data removed]",
            "text/plain": [
              "<Figure size 720x432 with 2 Axes>"
            ]
          },
          "metadata": {
            "needs_background": "light",
            "tags": []
          },
          "output_type": "display_data"
        }
      ],
      "source": [
        "cf_matrix = confusion_matrix(np.argmax(y_test,1),pred, normalize='true')\n",
        "plt.figure(figsize = (10,6))\n",
        "sns.heatmap(cf_matrix, annot=True)\n",
        "plt.title('Confusion Matrix')\n",
        "plt.xlabel(\"Predicted\")\n",
        "plt.ylabel(\"True label\")\n",
        "plt.show()"
      ]
    },
    {
      "cell_type": "code",
      "execution_count": 45,
      "metadata": {
        "colab": {
          "base_uri": "https://localhost:8080/"
        },
        "id": "ZvGC5mPgKLPX",
        "outputId": "3e4a3a8b-8c4f-4687-b4c2-7af829cf2d95"
      },
      "outputs": [
        {
          "name": "stdout",
          "output_type": "stream",
          "text": [
            "              precision    recall  f1-score   support\n",
            "\n",
            "           0       0.84      0.81      0.83      1633\n",
            "           1       0.84      0.71      0.77       619\n",
            "           2       0.80      0.88      0.84      1546\n",
            "\n",
            "    accuracy                           0.82      3798\n",
            "   macro avg       0.83      0.80      0.81      3798\n",
            "weighted avg       0.83      0.82      0.82      3798\n",
            "\n"
          ]
        }
      ],
      "source": [
        "print(classification_report(np.argmax(y_test,axis=1),pred))"
      ]
    },
    {
      "cell_type": "markdown",
      "metadata": {
        "id": "1air34MOfYI7"
      },
      "source": [
        "# References"
      ]
    },
    {
      "cell_type": "markdown",
      "metadata": {
        "id": "rnLKINSBfabN"
      },
      "source": [
        "\n",
        "\n",
        "* Dataset: https://www.kaggle.com/datatattle/covid-19-nlp-text-classification/code?datasetId=863934&sortBy=voteCount\n",
        "<br>\n",
        "* good classification: https://colab.research.google.com/github/practical-nlp/practical-nlp/blob/master/Ch4/01_OnePipeline_ManyClassifiers.ipynb#scrollTo=gsUyIBUD5xZI\n",
        "\n",
        "* Good Notebook: https://www.kaggle.com/datatattle/battle-of-ml-classification-models\n",
        "* Good Notebook: https://www.kaggle.com/himanshutripathi/covid-19-tweets-analysis-97-accuracy\n",
        "* Good Analysis on another dataset: https://www.kaggle.com/arbazkhan971/sentiment-analysis-for-beginner-93-accuracy\n",
        "* Keras: https://realpython.com/python-keras-text-classification/#what-is-a-word-embedding\n",
        "* Good Theory: https://monkeylearn.com/text-classification/\n",
        "\n",
        "\n"
      ]
    }
  ],
  "metadata": {
    "colab": {
      "collapsed_sections": [],
      "name": "NLP_Final_Project.ipynb",
      "provenance": []
    },
    "kernelspec": {
      "display_name": "Python 3",
      "name": "python3"
    },
    "language_info": {
      "name": "python"
    }
  },
  "nbformat": 4,
  "nbformat_minor": 0
}
